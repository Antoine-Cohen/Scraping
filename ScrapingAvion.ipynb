{
 "cells": [
  {
   "attachments": {},
   "cell_type": "markdown",
   "metadata": {},
   "source": [
    "# Projet Webscrapping"
   ]
  },
  {
   "attachments": {},
   "cell_type": "markdown",
   "metadata": {},
   "source": [
    "## Import"
   ]
  },
  {
   "cell_type": "code",
   "execution_count": 2,
   "metadata": {},
   "outputs": [],
   "source": [
    "from selenium import webdriver\n",
    "from selenium.webdriver.common.keys import Keys\n",
    "from selenium.webdriver.common.by import By\n",
    "import time\n",
    "import pandas as pd\n",
    "from selenium.common.exceptions import ElementClickInterceptedException"
   ]
  },
  {
   "attachments": {},
   "cell_type": "markdown",
   "metadata": {},
   "source": [
    "## Functions"
   ]
  },
  {
   "cell_type": "code",
   "execution_count": 3,
   "metadata": {},
   "outputs": [],
   "source": [
    "def initializedriver():\n",
    "    driver = webdriver.Chrome('C:/Users/thomb/Downloads/chromedriver.exe')\n",
    "    return driver\n",
    "\n",
    "def getdriver(driver,url):\n",
    "    driver.get(url)\n",
    "    return driver\n",
    "\n",
    "def click_button(xPATH_button,driver):\n",
    "    driver.find_element(By.XPATH,xPATH_button).click()\n",
    "    return driver\n",
    "\n",
    "def scroll(driver):\n",
    "    driver.execute_script(\"window.scrollTo(0, 10000)\")\n",
    "    xPATH_scrollbutton='/html/body/div[2]/div[1]/div[2]/div[3]/section[5]/div[3]/div[2]/div/section/div[2]/div[1]/div/div[2]/button'\n",
    "    driver = click_button(xPATH_scrollbutton,driver)\n",
    "    time.sleep(10)\n",
    "    return driver\n",
    "\n"
   ]
  },
  {
   "attachments": {},
   "cell_type": "markdown",
   "metadata": {},
   "source": [
    "## Connect and scroll"
   ]
  },
  {
   "cell_type": "code",
   "execution_count": 30,
   "metadata": {},
   "outputs": [],
   "source": [
    "driver=initializedriver()\n",
    "url_test='https://www.edreams.fr/travel/#results/type=R;from=PAR;to=MAD;dep=2023-01-23;ret=2023-01-25;buyPath=FLIGHTS_HOME_SEARCH_FORM;internalSearch=true'\n",
    "driver=getdriver(driver,url_test)\n",
    "time.sleep(10)\n",
    "driver=click_button('/html/body/div[1]/div/div/div/div/div/span',driver)"
   ]
  },
  {
   "cell_type": "code",
   "execution_count": 32,
   "metadata": {},
   "outputs": [
    {
     "ename": "NoSuchElementException",
     "evalue": "Message: no such element: Unable to locate element: {\"method\":\"xpath\",\"selector\":\"/html/body/div[2]/div[1]/div[2]/div[3]/section[5]/div[3]/div[2]/div/section/div[2]/div[1]/div/div[2]/button\"}\n  (Session info: chrome=109.0.5414.74)\n",
     "output_type": "error",
     "traceback": [
      "\u001b[1;31m---------------------------------------------------------------------------\u001b[0m",
      "\u001b[1;31mNoSuchElementException\u001b[0m                    Traceback (most recent call last)",
      "Cell \u001b[1;32mIn[32], line 3\u001b[0m\n\u001b[0;32m      1\u001b[0m \u001b[39mfor\u001b[39;00m i \u001b[39min\u001b[39;00m \u001b[39mrange\u001b[39m(\u001b[39m10\u001b[39m):\n\u001b[0;32m      2\u001b[0m     \u001b[39mtry\u001b[39;00m:\n\u001b[1;32m----> 3\u001b[0m         scroll(driver)\n\u001b[0;32m      4\u001b[0m     \u001b[39mexcept\u001b[39;00m ElementClickInterceptedException:\n\u001b[0;32m      5\u001b[0m         xPATH_button \u001b[39m=\u001b[39m \u001b[39m\"\u001b[39m\u001b[39m/html/body/div[2]/div[1]/div[5]/div/div/button\u001b[39m\u001b[39m\"\u001b[39m\n",
      "Cell \u001b[1;32mIn[2], line 16\u001b[0m, in \u001b[0;36mscroll\u001b[1;34m(driver)\u001b[0m\n\u001b[0;32m     14\u001b[0m driver\u001b[39m.\u001b[39mexecute_script(\u001b[39m\"\u001b[39m\u001b[39mwindow.scrollTo(0, 10000)\u001b[39m\u001b[39m\"\u001b[39m)\n\u001b[0;32m     15\u001b[0m xPATH_scrollbutton\u001b[39m=\u001b[39m\u001b[39m'\u001b[39m\u001b[39m/html/body/div[2]/div[1]/div[2]/div[3]/section[5]/div[3]/div[2]/div/section/div[2]/div[1]/div/div[2]/button\u001b[39m\u001b[39m'\u001b[39m\n\u001b[1;32m---> 16\u001b[0m driver \u001b[39m=\u001b[39m click_button(xPATH_scrollbutton,driver)\n\u001b[0;32m     17\u001b[0m time\u001b[39m.\u001b[39msleep(\u001b[39m10\u001b[39m)\n\u001b[0;32m     18\u001b[0m \u001b[39mreturn\u001b[39;00m driver\n",
      "Cell \u001b[1;32mIn[2], line 10\u001b[0m, in \u001b[0;36mclick_button\u001b[1;34m(xPATH_button, driver)\u001b[0m\n\u001b[0;32m      9\u001b[0m \u001b[39mdef\u001b[39;00m \u001b[39mclick_button\u001b[39m(xPATH_button,driver):\n\u001b[1;32m---> 10\u001b[0m     driver\u001b[39m.\u001b[39;49mfind_element(By\u001b[39m.\u001b[39;49mXPATH,xPATH_button)\u001b[39m.\u001b[39mclick()\n\u001b[0;32m     11\u001b[0m     \u001b[39mreturn\u001b[39;00m driver\n",
      "File \u001b[1;32mc:\\Python310\\lib\\site-packages\\selenium\\webdriver\\remote\\webdriver.py:976\u001b[0m, in \u001b[0;36mWebDriver.find_element\u001b[1;34m(self, by, value)\u001b[0m\n\u001b[0;32m    974\u001b[0m         by \u001b[39m=\u001b[39m By\u001b[39m.\u001b[39mCSS_SELECTOR\n\u001b[0;32m    975\u001b[0m         value \u001b[39m=\u001b[39m \u001b[39m'\u001b[39m\u001b[39m[name=\u001b[39m\u001b[39m\"\u001b[39m\u001b[39m%s\u001b[39;00m\u001b[39m\"\u001b[39m\u001b[39m]\u001b[39m\u001b[39m'\u001b[39m \u001b[39m%\u001b[39m value\n\u001b[1;32m--> 976\u001b[0m \u001b[39mreturn\u001b[39;00m \u001b[39mself\u001b[39;49m\u001b[39m.\u001b[39;49mexecute(Command\u001b[39m.\u001b[39;49mFIND_ELEMENT, {\n\u001b[0;32m    977\u001b[0m     \u001b[39m'\u001b[39;49m\u001b[39musing\u001b[39;49m\u001b[39m'\u001b[39;49m: by,\n\u001b[0;32m    978\u001b[0m     \u001b[39m'\u001b[39;49m\u001b[39mvalue\u001b[39;49m\u001b[39m'\u001b[39;49m: value})[\u001b[39m'\u001b[39m\u001b[39mvalue\u001b[39m\u001b[39m'\u001b[39m]\n",
      "File \u001b[1;32mc:\\Python310\\lib\\site-packages\\selenium\\webdriver\\remote\\webdriver.py:321\u001b[0m, in \u001b[0;36mWebDriver.execute\u001b[1;34m(self, driver_command, params)\u001b[0m\n\u001b[0;32m    319\u001b[0m response \u001b[39m=\u001b[39m \u001b[39mself\u001b[39m\u001b[39m.\u001b[39mcommand_executor\u001b[39m.\u001b[39mexecute(driver_command, params)\n\u001b[0;32m    320\u001b[0m \u001b[39mif\u001b[39;00m response:\n\u001b[1;32m--> 321\u001b[0m     \u001b[39mself\u001b[39;49m\u001b[39m.\u001b[39;49merror_handler\u001b[39m.\u001b[39;49mcheck_response(response)\n\u001b[0;32m    322\u001b[0m     response[\u001b[39m'\u001b[39m\u001b[39mvalue\u001b[39m\u001b[39m'\u001b[39m] \u001b[39m=\u001b[39m \u001b[39mself\u001b[39m\u001b[39m.\u001b[39m_unwrap_value(\n\u001b[0;32m    323\u001b[0m         response\u001b[39m.\u001b[39mget(\u001b[39m'\u001b[39m\u001b[39mvalue\u001b[39m\u001b[39m'\u001b[39m, \u001b[39mNone\u001b[39;00m))\n\u001b[0;32m    324\u001b[0m     \u001b[39mreturn\u001b[39;00m response\n",
      "File \u001b[1;32mc:\\Python310\\lib\\site-packages\\selenium\\webdriver\\remote\\errorhandler.py:242\u001b[0m, in \u001b[0;36mErrorHandler.check_response\u001b[1;34m(self, response)\u001b[0m\n\u001b[0;32m    240\u001b[0m         alert_text \u001b[39m=\u001b[39m value[\u001b[39m'\u001b[39m\u001b[39malert\u001b[39m\u001b[39m'\u001b[39m]\u001b[39m.\u001b[39mget(\u001b[39m'\u001b[39m\u001b[39mtext\u001b[39m\u001b[39m'\u001b[39m)\n\u001b[0;32m    241\u001b[0m     \u001b[39mraise\u001b[39;00m exception_class(message, screen, stacktrace, alert_text)\n\u001b[1;32m--> 242\u001b[0m \u001b[39mraise\u001b[39;00m exception_class(message, screen, stacktrace)\n",
      "\u001b[1;31mNoSuchElementException\u001b[0m: Message: no such element: Unable to locate element: {\"method\":\"xpath\",\"selector\":\"/html/body/div[2]/div[1]/div[2]/div[3]/section[5]/div[3]/div[2]/div/section/div[2]/div[1]/div/div[2]/button\"}\n  (Session info: chrome=109.0.5414.74)\n"
     ]
    }
   ],
   "source": [
    "\n",
    "for i in range(10):\n",
    "    try:\n",
    "        scroll(driver)\n",
    "    except ElementClickInterceptedException:\n",
    "        xPATH_button = \"/html/body/div[2]/div[1]/div[5]/div/div/button\"\n",
    "        click_button(xPATH_button, driver)\n",
    "        time.sleep(5)\n",
    "\n",
    "\n",
    "    driver=scroll(driver)\n",
    "driver.execute_script(\"window.scrollTo(0, 10000)\")\n",
    "time.sleep(10)"
   ]
  },
  {
   "attachments": {},
   "cell_type": "markdown",
   "metadata": {},
   "source": [
    "## Scrapping"
   ]
  },
  {
   "cell_type": "code",
   "execution_count": 34,
   "metadata": {},
   "outputs": [
    {
     "name": "stdout",
     "output_type": "stream",
     "text": [
      "400\n"
     ]
    }
   ],
   "source": [
    "# 1 prix par voyage, arrondi a l'euro inférieur\n",
    "xPATH_price=\"//span[@class='money-integer css-hqtcs8-BaseText-MoneyPart-DefaultPart e16uabde1']\"\n",
    "prices = driver.find_elements(By.XPATH,xPATH_price)\n",
    "print(len(prices))\n"
   ]
  },
  {
   "cell_type": "code",
   "execution_count": 35,
   "metadata": {},
   "outputs": [
    {
     "name": "stdout",
     "output_type": "stream",
     "text": [
      "400\n"
     ]
    }
   ],
   "source": [
    "#centime du prix \n",
    "xPATH_cent=\"//span[@class='money-fraction css-gyjmgb-BaseText-MoneyPart-NoIntegerPart e16uabde2']\"\n",
    "cents=driver.find_elements(By.XPATH,xPATH_cent)\n",
    "print(len(cents))"
   ]
  },
  {
   "cell_type": "code",
   "execution_count": 36,
   "metadata": {},
   "outputs": [
    {
     "name": "stdout",
     "output_type": "stream",
     "text": [
      "3200\n"
     ]
    }
   ],
   "source": [
    "#4 Airport par voyage, a chaque fois l'aéroprt est sur 2 ligne: nom et ville\n",
    "# donc 8 ligne par voyage\n",
    "xPATH_airport=\"//div[@class='css-13x7to7-BaseText-Body eezsimq0']\"\n",
    "airports=driver.find_elements(By.XPATH,xPATH_airport)\n",
    "print(len(airports))"
   ]
  },
  {
   "cell_type": "code",
   "execution_count": 37,
   "metadata": {},
   "outputs": [
    {
     "name": "stdout",
     "output_type": "stream",
     "text": [
      "800\n"
     ]
    }
   ],
   "source": [
    "# 1 companie par vol donc 2 par voyage\n",
    "xPATH_company=\"//div[@class='css-1um4vyc-BaseText-Body eezsimq0']\"\n",
    "companies=driver.find_elements(By.XPATH,xPATH_company)\n",
    "print(len(companies))"
   ]
  },
  {
   "cell_type": "code",
   "execution_count": 38,
   "metadata": {},
   "outputs": [
    {
     "name": "stdout",
     "output_type": "stream",
     "text": [
      "1600\n"
     ]
    }
   ],
   "source": [
    "# 1horaire de départ et d'arrive aller et retour\n",
    "# donc 2 par vol et 4 par voyage\n",
    "xPATH_horaire=\"//div[@class='css-v0s8x5-BaseText-Body eezsimq0']\"\n",
    "horaires=driver.find_elements(By.XPATH,xPATH_horaire)\n",
    "print(len(horaires))"
   ]
  },
  {
   "cell_type": "code",
   "execution_count": 39,
   "metadata": {},
   "outputs": [
    {
     "name": "stdout",
     "output_type": "stream",
     "text": [
      "800\n"
     ]
    }
   ],
   "source": [
    "#Comme pour les companies, 2 par voyage\n",
    "xPATH_timetravel=\"//span[@class='css-1mbgvvh-BaseText-Text ek4n60o0']\"\n",
    "timestravels=driver.find_elements(By.XPATH,xPATH_timetravel)\n",
    "print(len(timestravels))"
   ]
  },
  {
   "cell_type": "code",
   "execution_count": 40,
   "metadata": {},
   "outputs": [
    {
     "name": "stdout",
     "output_type": "stream",
     "text": [
      "800\n"
     ]
    }
   ],
   "source": [
    "xPATH_escale=\"//span[@class='css-1kh4dda-BaseText-Text ek4n60o0']\"\n",
    "escales=driver.find_elements(By.XPATH,xPATH_escale)\n",
    "print(len(escales))"
   ]
  },
  {
   "cell_type": "code",
   "execution_count": 41,
   "metadata": {},
   "outputs": [
    {
     "name": "stdout",
     "output_type": "stream",
     "text": [
      "604\n"
     ]
    }
   ],
   "source": [
    "xPATH_bag=\"//span[@class='css-1xh0qv8-BaseText-Text ek4n60o0']\"\n",
    "bags=driver.find_elements(By.XPATH,xPATH_bag)\n",
    "print(len(bags))"
   ]
  },
  {
   "attachments": {},
   "cell_type": "markdown",
   "metadata": {},
   "source": [
    "## To_CSV"
   ]
  },
  {
   "cell_type": "code",
   "execution_count": 42,
   "metadata": {},
   "outputs": [],
   "source": [
    "travelprice=[]\n",
    "for i in range(len(prices)):\n",
    "    travelprice.append(prices[i].text+cents[i].text)\n",
    "\n",
    "allerdépart=[]\n",
    "allerarrivée=[]\n",
    "retourdépart=[]\n",
    "retourarrivée=[]\n",
    "for i in range(int(len(airports)/8)):\n",
    "    allerdépart.append(airports[4*i].text+', '+airports[4*i+1].text)\n",
    "    allerarrivée.append(airports[4*i+2].text+', '+airports[4*i+3].text)\n",
    "    retourdépart.append(airports[4*i+4].text+', '+airports[4*i+5].text)\n",
    "    retourarrivée.append(airports[4*i+6].text+', '+airports[4*i+7].text)\n",
    "\n",
    "allercompanie=[]\n",
    "retourcompanie=[]\n",
    "\n",
    "allertimetravel=[]\n",
    "retourtimetravel=[]\n",
    "\n",
    "allerescale=[]\n",
    "retourescales=[]\n",
    "for i in range(int(len(companies)/2)):\n",
    "    allercompanie.append(companies[2*i].text)\n",
    "    retourcompanie.append(companies[2*i+1].text)\n",
    "\n",
    "    allertimetravel.append(timestravels[2*i].text)\n",
    "    retourtimetravel.append(timestravels[2*i+1].text)\n",
    "\n",
    "    allerescale.append(escales[2*i].text)\n",
    "    retourescales.append(escales[2*i+1].text)\n",
    "\n",
    "allerdéparth=[]\n",
    "allerarrivéeh=[]\n",
    "retourdéparth=[]\n",
    "retourarrivéeh=[]\n",
    "for i in range(int(len(horaires)/4)):\n",
    "    allerdéparth.append(horaires[4*i].text)\n",
    "    allerarrivéeh.append(horaires[4*i+1].text)\n",
    "    retourdéparth.append(horaires[4*i+2].text)\n",
    "    retourarrivéeh.append(horaires[4*i+3].text)"
   ]
  },
  {
   "cell_type": "code",
   "execution_count": null,
   "metadata": {},
   "outputs": [],
   "source": [
    "DataM = {'TravelPrice': travelprice,\n",
    "        'allerdepart': allerdépart,\n",
    "        'allerarrivee': allerarrivée,\n",
    "        'retourdepart': retourdépart,\n",
    "        'retourarrivee': retourarrivée,\n",
    "        'allercompanie': allercompanie,\n",
    "        'retourcompanie': retourcompanie,\n",
    "        'allertimetravel': allertimetravel,\n",
    "        'retourtimetravel': retourtimetravel,\n",
    "        'allerescale':allerescale,\n",
    "        'retourescales':retourescales,\n",
    "        'allerdeparth':allerdéparth,\n",
    "        'allerarriveeh':allerarrivéeh,\n",
    "        'retourdeparth':retourdéparth,\n",
    "        'retourarriveeh':retourarrivéeh\n",
    "        }\n",
    "df=pd.DataFrame(DataM,columns=['TravelPrice','allerdepart','allerarrivee',\n",
    "        'retourdepart','retourarrivee','allercompanie',\n",
    "        'retourcompanie','allertimetravel','retourtimetravel',\n",
    "        'allerescale','retourescales','allerdeparth',\n",
    "        'allerarriveeh','retourdeparth','retourarriveeh'])\n",
    "\n",
    "df.to_csv('DataM.csv', sep =';')"
   ]
  }
 ],
 "metadata": {
  "kernelspec": {
   "display_name": "Python 3.10.1 64-bit",
   "language": "python",
   "name": "python3"
  },
  "language_info": {
   "codemirror_mode": {
    "name": "ipython",
    "version": 3
   },
   "file_extension": ".py",
   "mimetype": "text/x-python",
   "name": "python",
   "nbconvert_exporter": "python",
   "pygments_lexer": "ipython3",
   "version": "3.10.1"
  },
  "orig_nbformat": 4,
  "vscode": {
   "interpreter": {
    "hash": "369f2c481f4da34e4445cda3fffd2e751bd1c4d706f27375911949ba6bb62e1c"
   }
  }
 },
 "nbformat": 4,
 "nbformat_minor": 2
}
