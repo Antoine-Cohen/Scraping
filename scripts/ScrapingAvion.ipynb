{
 "cells": [
  {
   "attachments": {},
   "cell_type": "markdown",
   "metadata": {},
   "source": [
    "# Projet Webscrapping"
   ]
  },
  {
   "attachments": {},
   "cell_type": "markdown",
   "metadata": {},
   "source": [
    "## Import"
   ]
  },
  {
   "cell_type": "code",
   "execution_count": 17,
   "metadata": {},
   "outputs": [],
   "source": [
    "from selenium import webdriver\n",
    "from selenium.webdriver.common.keys import Keys\n",
    "from selenium.webdriver.common.by import By\n",
    "import time\n",
    "import pandas as pd"
   ]
  },
  {
   "attachments": {},
   "cell_type": "markdown",
   "metadata": {},
   "source": [
    "## Functions"
   ]
  },
  {
   "cell_type": "code",
   "execution_count": 18,
   "metadata": {},
   "outputs": [],
   "source": [
    "def initializedriver():\n",
    "    driver = webdriver.Chrome('C:\\\\Users\\\\antoi\\\\OneDrive\\\\Documents\\\\ESILV\\\\chromedriver\\\\chromedriver.exe')\n",
    "    return driver\n",
    "\n",
    "def getdriver(driver,url):\n",
    "    driver.get(url)\n",
    "    return driver\n",
    "\n",
    "def click_button(xPATH_button,driver):\n",
    "    try:\n",
    "        driver.find_element(By.XPATH,xPATH_button).click()\n",
    "        return driver\n",
    "    except:\n",
    "        return driver\n",
    "    \n",
    "\n",
    "def scroll(driver):\n",
    "    driver.execute_script(\"window.scrollTo(0, 10000)\")\n",
    "    xPATH_scrollbutton='/html/body/div[2]/div[1]/div[2]/div[3]/section[5]/div[3]/div[2]/div/section/div[2]/div[1]/div/div[2]/button'\n",
    "    driver = click_button(xPATH_scrollbutton,driver)\n",
    "    time.sleep(10)\n",
    "    return driver\n",
    "\n"
   ]
  },
  {
   "attachments": {},
   "cell_type": "markdown",
   "metadata": {},
   "source": [
    "## Connect and scroll"
   ]
  },
  {
   "cell_type": "code",
   "execution_count": 19,
   "metadata": {},
   "outputs": [
    {
     "name": "stderr",
     "output_type": "stream",
     "text": [
      "C:\\Users\\antoi\\AppData\\Local\\Temp\\ipykernel_19760\\4034482441.py:2: DeprecationWarning: executable_path has been deprecated, please pass in a Service object\n",
      "  driver = webdriver.Chrome('C:\\\\Users\\\\antoi\\\\OneDrive\\\\Documents\\\\ESILV\\\\chromedriver\\\\chromedriver.exe')\n"
     ]
    }
   ],
   "source": [
    "driver=initializedriver()\n",
    "url_test='https://www.edreams.fr/travel/#results/type=R;from=PAR;to=MAD;dep=2023-01-23;ret=2023-01-25;buyPath=FLIGHTS_HOME_SEARCH_FORM;internalSearch=true'\n",
    "driver=getdriver(driver,url_test)\n",
    "time.sleep(10)\n",
    "driver=click_button('/html/body/div[1]/div/div/div/div/div/span',driver)"
   ]
  },
  {
   "cell_type": "code",
   "execution_count": 20,
   "metadata": {},
   "outputs": [],
   "source": [
    "for i in range(8):\n",
    "    driver = scroll(driver)\n",
    "driver.execute_script(\"window.scrollTo(0, 10000)\")\n",
    "time.sleep(10)"
   ]
  },
  {
   "attachments": {},
   "cell_type": "markdown",
   "metadata": {},
   "source": [
    "## Scrapping"
   ]
  },
  {
   "cell_type": "code",
   "execution_count": 21,
   "metadata": {},
   "outputs": [
    {
     "name": "stdout",
     "output_type": "stream",
     "text": [
      "42\n"
     ]
    }
   ],
   "source": [
    "# 1 prix par voyage, arrondi a l'euro inférieur\n",
    "xPATH_price=\"//span[@class='money-integer css-hqtcs8-BaseText-MoneyPart-DefaultPart e16uabde1']\"\n",
    "prices = driver.find_elements(By.XPATH,xPATH_price)\n",
    "print(len(prices))\n"
   ]
  },
  {
   "cell_type": "code",
   "execution_count": 22,
   "metadata": {},
   "outputs": [
    {
     "name": "stdout",
     "output_type": "stream",
     "text": [
      "42\n"
     ]
    }
   ],
   "source": [
    "#centime du prix \n",
    "xPATH_cent=\"//span[@class='money-fraction css-gyjmgb-BaseText-MoneyPart-NoIntegerPart e16uabde2']\"\n",
    "cents=driver.find_elements(By.XPATH,xPATH_cent)\n",
    "print(len(cents))"
   ]
  },
  {
   "cell_type": "code",
   "execution_count": 23,
   "metadata": {},
   "outputs": [
    {
     "name": "stdout",
     "output_type": "stream",
     "text": [
      "336\n"
     ]
    }
   ],
   "source": [
    "#4 Airport par voyage, a chaque fois l'aéroprt est sur 2 ligne: nom et ville\n",
    "# donc 8 ligne par voyage\n",
    "xPATH_airport=\"//div[@class='css-13x7to7-BaseText-Body eezsimq0']\"\n",
    "airports=driver.find_elements(By.XPATH,xPATH_airport)\n",
    "print(len(airports))"
   ]
  },
  {
   "cell_type": "code",
   "execution_count": 24,
   "metadata": {},
   "outputs": [
    {
     "name": "stdout",
     "output_type": "stream",
     "text": [
      "84\n"
     ]
    }
   ],
   "source": [
    "# 1 companie par vol donc 2 par voyage\n",
    "xPATH_company=\"//div[@class='css-1um4vyc-BaseText-Body eezsimq0']\"\n",
    "companies=driver.find_elements(By.XPATH,xPATH_company)\n",
    "print(len(companies))"
   ]
  },
  {
   "cell_type": "code",
   "execution_count": 25,
   "metadata": {},
   "outputs": [
    {
     "name": "stdout",
     "output_type": "stream",
     "text": [
      "168\n"
     ]
    }
   ],
   "source": [
    "# 1horaire de départ et d'arrive aller et retour\n",
    "# donc 2 par vol et 4 par voyage\n",
    "xPATH_horaire=\"//div[@class='css-v0s8x5-BaseText-Body eezsimq0']\"\n",
    "horaires=driver.find_elements(By.XPATH,xPATH_horaire)\n",
    "print(len(horaires))"
   ]
  },
  {
   "cell_type": "code",
   "execution_count": 26,
   "metadata": {},
   "outputs": [
    {
     "name": "stdout",
     "output_type": "stream",
     "text": [
      "84\n"
     ]
    }
   ],
   "source": [
    "#Comme pour les companies, 2 par voyage\n",
    "xPATH_timetravel=\"//span[@class='css-1mbgvvh-BaseText-Text ek4n60o0']\"\n",
    "timestravels=driver.find_elements(By.XPATH,xPATH_timetravel)\n",
    "print(len(timestravels))"
   ]
  },
  {
   "cell_type": "code",
   "execution_count": 27,
   "metadata": {},
   "outputs": [
    {
     "name": "stdout",
     "output_type": "stream",
     "text": [
      "84\n"
     ]
    }
   ],
   "source": [
    "xPATH_escale=\"//span[@class='css-1kh4dda-BaseText-Text ek4n60o0']\"\n",
    "escales=driver.find_elements(By.XPATH,xPATH_escale)\n",
    "print(len(escales))"
   ]
  },
  {
   "cell_type": "code",
   "execution_count": 28,
   "metadata": {},
   "outputs": [
    {
     "name": "stdout",
     "output_type": "stream",
     "text": [
      "84\n"
     ]
    }
   ],
   "source": [
    "xPATH_bag=\"//span[@class='css-1xh0qv8-BaseText-Text ek4n60o0']\"\n",
    "bags=driver.find_elements(By.XPATH,xPATH_bag)\n",
    "print(len(bags))"
   ]
  },
  {
   "attachments": {},
   "cell_type": "markdown",
   "metadata": {},
   "source": [
    "## To_CSV"
   ]
  },
  {
   "cell_type": "code",
   "execution_count": 29,
   "metadata": {},
   "outputs": [],
   "source": [
    "travelprice=[]\n",
    "for i in range(len(prices)):\n",
    "    travelprice.append(prices[i].text+cents[i].text)\n",
    "\n",
    "allerdépart=[]\n",
    "allerarrivée=[]\n",
    "retourdépart=[]\n",
    "retourarrivée=[]\n",
    "for i in range(int(len(airports)/8)):\n",
    "    allerdépart.append(airports[4*i].text+', '+airports[4*i+1].text)\n",
    "    allerarrivée.append(airports[4*i+2].text+', '+airports[4*i+3].text)\n",
    "    retourdépart.append(airports[4*i+4].text+', '+airports[4*i+5].text)\n",
    "    retourarrivée.append(airports[4*i+6].text+', '+airports[4*i+7].text)\n",
    "\n",
    "allercompanie=[]\n",
    "retourcompanie=[]\n",
    "\n",
    "allertimetravel=[]\n",
    "retourtimetravel=[]\n",
    "\n",
    "allerescale=[]\n",
    "retourescales=[]\n",
    "for i in range(int(len(companies)/2)):\n",
    "    allercompanie.append(companies[2*i].text)\n",
    "    retourcompanie.append(companies[2*i+1].text)\n",
    "\n",
    "    allertimetravel.append(timestravels[2*i].text)\n",
    "    retourtimetravel.append(timestravels[2*i+1].text)\n",
    "\n",
    "    allerescale.append(escales[2*i].text)\n",
    "    retourescales.append(escales[2*i+1].text)\n",
    "\n",
    "allerdéparth=[]\n",
    "allerarrivéeh=[]\n",
    "retourdéparth=[]\n",
    "retourarrivéeh=[]\n",
    "for i in range(int(len(horaires)/4)):\n",
    "    allerdéparth.append(airports[4*i].text)\n",
    "    allerarrivéeh.append(airports[4*i+1].text)\n",
    "    retourdéparth.append(airports[4*i+2].text)\n",
    "    retourarrivéeh.append(airports[4*i+3].text)"
   ]
  },
  {
   "cell_type": "code",
   "execution_count": 30,
   "metadata": {},
   "outputs": [],
   "source": [
    "DataM = {'TravelPrice': travelprice,\n",
    "        'allerdépart': allerdépart,\n",
    "        'allerarrivée': allerarrivée,\n",
    "        'retourdépart': retourdépart,\n",
    "        'retourarrivée': retourarrivée,\n",
    "        'allercompanie': allercompanie,\n",
    "        'retourcompanie': retourcompanie,\n",
    "        'allertimetravel': allertimetravel,\n",
    "        'retourtimetravel': retourtimetravel,\n",
    "        'allerescale':allerescale,\n",
    "        'retourescales':retourescales,\n",
    "        'allerdéparth':allerdéparth,\n",
    "        'allerarrivéeh':allerarrivéeh,\n",
    "        'retourdéparth':retourdéparth,\n",
    "        'retourarrivéeh':retourarrivéeh\n",
    "        }\n",
    "df=pd.DataFrame(DataM,columns=['TravelPrice','allerdépart','allerarrivée',\n",
    "        'retourdépart','retourarrivée','allercompanie',\n",
    "        'retourcompanie','allertimetravel','retourtimetravel',\n",
    "        'allerescale','retourescales','allerdéparth',\n",
    "        'allerarrivéeh','retourdéparth','retourarrivéeh'])\n",
    "\n",
    "df.to_csv('DataM.csv', sep =';',index=False)"
   ]
  },
  {
   "cell_type": "code",
   "execution_count": null,
   "metadata": {},
   "outputs": [],
   "source": []
  }
 ],
 "metadata": {
  "kernelspec": {
   "display_name": "Python 3",
   "language": "python",
   "name": "python3"
  },
  "language_info": {
   "codemirror_mode": {
    "name": "ipython",
    "version": 3
   },
   "file_extension": ".py",
   "mimetype": "text/x-python",
   "name": "python",
   "nbconvert_exporter": "python",
   "pygments_lexer": "ipython3",
   "version": "3.10.8"
  },
  "orig_nbformat": 4,
  "vscode": {
   "interpreter": {
    "hash": "1fa00b43a2815b6e7d70a2d31939caaf0962842c1572ea0aeb1b942073e6df85"
   }
  }
 },
 "nbformat": 4,
 "nbformat_minor": 2
}
